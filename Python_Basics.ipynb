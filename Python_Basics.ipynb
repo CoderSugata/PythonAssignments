{
  "nbformat": 4,
  "nbformat_minor": 0,
  "metadata": {
    "colab": {
      "provenance": []
    },
    "kernelspec": {
      "name": "python3",
      "display_name": "Python 3"
    },
    "language_info": {
      "name": "python"
    }
  },
  "cells": [
    {
      "cell_type": "markdown",
      "source": [
        "# Assignment : Python basic\n"
      ],
      "metadata": {
        "id": "X6jNjkeGgN2l"
      }
    },
    {
      "cell_type": "markdown",
      "source": [
        "# 1. **What is Python, and why is it popular?**\n",
        "\n",
        "  - Python is a high-level, general-purpose programming language known for its readability and ease of use. Its popularity stems from its versatility, extensive libraries, and a large, supportive community. Python is widely used in various applications like web development, data analysis, machine learning, and automation.\n",
        "\n",
        "  Why Python is popular:\n",
        "\n",
        "   i) Readability and Simplicity: Python's syntax is designed to be clear and easy to understand, making it a great language for beginners and experienced programmers alike.\n",
        "\n",
        "   ii) Versatility: Python can be used for a wide range of applications, from web development to data science, making it a valuable tool for developers and analysts.\n",
        "\n",
        "   iii) Extensive Libraries: Python has a rich ecosystem of libraries and frameworks that simplify the development process and provide ready-made solutions for common tasks.\n",
        "\n",
        "   iv) Large and Supportive Community: The Python community is active and helpful, providing ample resources and support for developers.\n",
        "\n",
        "   v) Growing Demand: Python's popularity is reflected in the increasing demand for Python developers in the job market.\n",
        "\n",
        "   vi) Open Source: Python is an open-source language, meaning it is free to use, distribute, and modify.\n",
        "\n",
        "   vii) Rapid Prototyping: Python's simplicity and high-level abstractions allow for rapid prototyping and development.\n",
        "\n",
        "# 2. **What is an interpreter in Python?**\n",
        "\n",
        "  - In Python, an interpreter is a program that reads and executes Python code line by line, allowing you to see the results immediately. Unlike compilers, which translate code into machine code before execution, interpreters translate and execute code at runtime.\n",
        "\n",
        "# 3. **What are pre-defined keywords in Python?**\n",
        "\n",
        "  - Keywords are reserved words in Python that have predefined meanings and cannot be used as identifiers like variable names or function names. They are crucial for defining the structure and logic of Python code. Here's a list of Python keywords: [False, await, else, import, pass, None, break, except, in, raise, True, class, finally, is, return, and, continue, for, lambda, try, as, def from, nonlocal, while, assert, del, global, not, with, async, elif, if, or, yield]\n",
        "\n",
        "# 4. Can keywords be used as variable names?\n",
        "\n",
        "  - Keywords cannot be used as variable names in Python. Keywords are reserved words that have specific meanings and purposes within the language's syntax. Attempting to use a keyword as a variable name will result in a SyntaxError. Python's interpreter relies on keywords to recognize the structure of the code, and reassigning them as variables would disrupt this functionality.\n",
        "\n",
        "  Invalid variable names:\n",
        "\n",
        "\n",
        "    and = 10 ❌\n",
        "    if = 20 ❌\n",
        "    for = \"hello\" ❌\n",
        "  Valid variable names:\n",
        "\n",
        "\n",
        "    my_variable = 10 ✅\n",
        "    _my_variable = 20 ✅\n",
        "    myVariable = \"hello\" ✅\n",
        "\n",
        "# 5. **What is mutability in Python?**\n",
        "\n",
        "  - Mutability in Python refers to the ability of an object to be modified after it is created. When an object is mutable, its state or value can be changed without creating a new object. This means that operations can directly alter the object's contents. Examples of mutable data types in Python include: lists, dictionaries, and sets.\n",
        "\n",
        "# 6. **Why are lists mutable, but tuples are immutable?**\n",
        "\n",
        "  - Lists are mutable in Python because they are designed to support operations that modify their content, such as adding, removing, or changing elements. This flexibility is useful in many situations where the data stored in the list needs to be updated or changed dynamically.\n",
        "  \n",
        "    Tuples, on the other hand, are immutable because they are designed to represent fixed collections of items. Once a tuple is created, its contents cannot be changed.\n",
        "\n",
        "# 7.  **What is the difference between “==” and “is” operators in Python?**\n",
        "\n",
        "  - The \"==\" and \"is\" operators in Python serve different comparison purposes. The \"==\" operator checks for equality of value, while the \"is\" operator checks for identity.\n",
        "\n",
        "    \"==\" (Equality Operator):\n",
        "    This operator compares the values of two objects. It returns True if the values are the same and False otherwise. It does not consider whether the objects are stored in the same memory location.\n",
        "\n",
        "    \"is\" (Identity Operator):\n",
        "    This operator checks if two variables refer to the same object in memory. It returns True if they do and False if they don't, even if the objects have the same value.\n",
        "\n",
        "\n",
        "    a = [1, 2, 3]\n",
        "    b = [1, 2, 3]\n",
        "    c = a\n",
        "    print(a == b)  # Output: True (values are equal)\n",
        "    print(a is b)  # Output: False (different objects in memory)\n",
        "    print(a is c)  # Output: True (same object in memory)\n",
        "\n",
        "# 8.  **What are logical operators in Python?**\n",
        "\n",
        "  - Logical operators in Python are used to combine or modify boolean values (True or False). There are three main logical operators:\n",
        "\n",
        "    and: Returns True if both operands are True, otherwise it returns False.\n",
        "\n",
        "    or: Returns True if at least one operand is True, and False only if both operands are False.\n",
        "\n",
        "    not: Returns the opposite boolean value of the operand. If the operand is True, it returns False, and vice versa.\n",
        "\n",
        "# 9.  **What is type casting in Python?**\n",
        "\n",
        "  - Type casting in Python refers to the process of converting a variable from one data type to another. This conversion is useful when performing operations that require specific data types or when you need to represent data in a different format. Python supports both implicit and explicit type casting.\n",
        "\n",
        "# 10. **What is the difference between implicit and explicit type casting?**\n",
        "\n",
        "  - Type casting, also known as type conversion, is the process of changing a variable's data type. In Python, this can occur implicitly or explicitly.\n",
        "\n",
        "    Implicit Type Casting:\n",
        "    Implicit type casting happens automatically, without the programmer specifying the conversion. Python handles it during certain operations to prevent data loss. It usually occurs when converting from a narrower type to a wider type, such as from integer to float.\n",
        "\n",
        "\n",
        "    num_int = 123\n",
        "    num_float = 1.23\n",
        "    num_new = num_int + num_float\n",
        "    print(\"Data type of num_int:\", type(num_int))\n",
        "    print(\"Data type of num_float:\", type(num_float))\n",
        "    print(\"Value of num_new:\",num_new)\n",
        "    print(\"Data type of num_new:\", type(num_new))\n",
        "Explicit Type Casting: Explicit type casting, also known as type casting, requires the programmer to manually convert the data type using built-in functions. This is used when there's a need to change the data type to perform specific operations or when implicit conversion is not possible.\n",
        "\n",
        "    num_string = \"45\"\n",
        "    num_int = int(num_string)\n",
        "    print(\"Data type of num_string before Type Casting:\", type(num_string))\n",
        "    print(\"Data type of num_int after Type Casting:\", type(num_int))\n",
        "\n",
        "# 11.  **What is the purpose of conditional statements in Python?**\n",
        "\n",
        "  - Conditional statements in Python enable programs to execute different code blocks based on whether specific conditions are met. They are fundamental for creating logic-driven applications, allowing for decision-making and control flow.\n",
        "\n",
        "  The primary purpose of conditional statements is to direct the flow of a program's execution. They allow the program to make choices, responding differently to various inputs or situations. This capability is crucial for creating dynamic and interactive programs.\n",
        "\n",
        "  Python uses if, elif, and else keywords to construct conditional statements. The if statement evaluates a condition; if it is true, the code block within the if statement is executed. The elif (else if) statement allows for checking multiple conditions in sequence. The else statement provides a default block of code to execute if none of the preceding conditions are true.\n",
        "\n",
        "\n",
        "    x = 10\n",
        "    if x > 5:\n",
        "      print(\"x is greater than 5\")\n",
        "    elif x < 5:\n",
        "      print(\"x is less than 5\")\n",
        "    else:\n",
        "      print(\"x is equal to 5\")\n",
        "\n",
        "# 12.  **How does the elif statement work?**\n",
        "\n",
        "  - The “elif” keyword in Python, stands for “else if”. It can be used in conditional statements to check for multiple conditions. For example, if the first condition is false, it moves on to the next “elif” statement to check if that condition is true.\n",
        "\n",
        "# 13.  **What is the difference between for and while loops?**\n",
        "\n",
        "  - The for and while loops are control flow structures that facilitate repeated execution of code blocks, but they differ in their application and control mechanisms.\n",
        "\n",
        "  For loop: It is designed for iterating over a sequence (such as a list, tuple, string, or range) or other iterable objects. The loop executes once for each item in the sequence. The number of iterations is known in advance, determined by the length of the sequence.\n",
        "\n",
        "\n",
        "      for i in range(5): # Iterates 5 times, i taking values from 0 to 4\n",
        "      print(i)\n",
        "\n",
        "  While loop: It repeats a block of code as long as a specified condition remains true. The number of iterations is not necessarily known beforehand and depends on when the condition becomes false. It is suitable for situations where the loop needs to continue until a specific event occurs or a condition is met.\n",
        "\n",
        "\n",
        "    count = 0\n",
        "    while count < 5: # Continues as long as count is less than 5\n",
        "    print(count)\n",
        "    count += 1\n",
        "\n",
        "#14. **Describe a scenario where a while loop is more suitable than a for loop?**\n",
        "\n",
        "  - A scenario where a while loop is more suitable than a for loop is when the number of iterations needed is not known in advance and depends on a certain condition being met. An example is a program that prompts the user for input until they enter a specific word, such as \"quit.\"\n",
        "\n",
        "\n",
        "    user_input = \"\"\n",
        "    while user_input.lower() != \"quit\":\n",
        "    user_input = input(\"Enter text (type 'quit' to exit): \")\n",
        "    print(\"You entered:\", user_input)\n",
        "    print(\"Exiting program.\")\n",
        "\n",
        "  In this case, the loop continues as long as the user's input, converted to lowercase, is not equal to \"quit.\" The number of times the loop runs is determined by the user and not fixed beforehand, making a while loop the appropriate choice. A for loop, which requires a defined range or sequence to iterate over, would not be suitable here."
      ],
      "metadata": {
        "id": "9Z7BH5zVg_Vh"
      }
    },
    {
      "cell_type": "markdown",
      "source": [],
      "metadata": {
        "id": "MKABTlhhl54w"
      }
    },
    {
      "cell_type": "markdown",
      "source": [
        "# Practical Questions"
      ],
      "metadata": {
        "id": "wiInX9OafoM9"
      }
    },
    {
      "cell_type": "code",
      "source": [
        " # 1.Write a Python program to print \"Hello, World!\"\n",
        "\n",
        "print(\"Hello World\")"
      ],
      "metadata": {
        "colab": {
          "base_uri": "https://localhost:8080/"
        },
        "id": "1cYI48Mdf8FS",
        "outputId": "e3cd2bb8-2191-4987-afba-e1120bae0c5c"
      },
      "execution_count": null,
      "outputs": [
        {
          "output_type": "stream",
          "name": "stdout",
          "text": [
            "Hello World\n"
          ]
        }
      ]
    },
    {
      "cell_type": "code",
      "source": [
        "# 2.  Write a Python program that displays your name and age.\n",
        "\n",
        "name=input(\"Enter Your Naame\")\n",
        "age=input(\"enter Your age\")\n",
        "print(\"My name is = \",name,\"and age is: \", age)"
      ],
      "metadata": {
        "id": "gsMdj020gNV2",
        "colab": {
          "base_uri": "https://localhost:8080/"
        },
        "outputId": "804ace60-7921-4b88-ac5f-66ee632887c0"
      },
      "execution_count": 36,
      "outputs": [
        {
          "output_type": "stream",
          "name": "stdout",
          "text": [
            "Enter Your NaameMaverick \n",
            "enter Your age27\n",
            "My name is =  Maverick  and age is:  27\n"
          ]
        }
      ]
    },
    {
      "cell_type": "code",
      "source": [
        "# 3.  Write code to print all the pre-defined keywords in Python using the keyword library.\n",
        "\n",
        "help(\"keywords\")"
      ],
      "metadata": {
        "colab": {
          "base_uri": "https://localhost:8080/"
        },
        "id": "rfHwqrKUhHMJ",
        "outputId": "4b54a436-7667-4ffc-ba21-92629ca1743d"
      },
      "execution_count": 10,
      "outputs": [
        {
          "output_type": "stream",
          "name": "stdout",
          "text": [
            "\n",
            "Here is a list of the Python keywords.  Enter any keyword to get more help.\n",
            "\n",
            "False               class               from                or\n",
            "None                continue            global              pass\n",
            "True                def                 if                  raise\n",
            "and                 del                 import              return\n",
            "as                  elif                in                  try\n",
            "assert              else                is                  while\n",
            "async               except              lambda              with\n",
            "await               finally             nonlocal            yield\n",
            "break               for                 not                 \n",
            "\n"
          ]
        }
      ]
    },
    {
      "cell_type": "code",
      "source": [
        "# 4.  Write a program that checks if a given word is a Python keyword.\n",
        "\n",
        "import keyword\n",
        "\n",
        "def is_python_keyword(word):\n",
        "    return keyword.iskeyword(word)\n",
        "\n",
        "# Example usage\n",
        "word = input(\"Enter a word to check if it's a Python keyword: \")\n",
        "\n",
        "if is_python_keyword(word):\n",
        "    print(f\"'{word}' is a Python keyword.\")\n",
        "else:\n",
        "    print(f\"'{word}' is NOT a Python keyword.\")\n"
      ],
      "metadata": {
        "colab": {
          "base_uri": "https://localhost:8080/"
        },
        "id": "hI63KKesiEb2",
        "outputId": "b34d70e0-74c8-4633-f9b5-69fce230cb8d"
      },
      "execution_count": 14,
      "outputs": [
        {
          "output_type": "stream",
          "name": "stdout",
          "text": [
            "Enter a word to check if it's a Python keyword: else\n",
            "'else' is a Python keyword.\n"
          ]
        }
      ]
    },
    {
      "cell_type": "code",
      "source": [
        "# 5. Create a list and tuple in Python, and demonstrate how attempting to change an element works differently for each.\n",
        "\n",
        "my_list = [10, 20, 30]\n",
        "my_tuple = (10, 20, 30)\n",
        "print(\"Original list:\", my_list)\n",
        "my_list[1] = 99\n",
        "print(\"Modified list:\", my_list)\n",
        "print(\"Original tuple:\", my_tuple)\n",
        "try:\n",
        "    my_tuple[1] = 99\n",
        "except TypeError as e:\n",
        "    print(\"Error when modifying tuple:\", e)"
      ],
      "metadata": {
        "colab": {
          "base_uri": "https://localhost:8080/"
        },
        "id": "WpHlN0ezimvT",
        "outputId": "7e12c87c-6ead-4aa0-9961-8989dc8c8dab"
      },
      "execution_count": 16,
      "outputs": [
        {
          "output_type": "stream",
          "name": "stdout",
          "text": [
            "Original list: [10, 20, 30]\n",
            "Modified list: [10, 99, 30]\n",
            "Original tuple: (10, 20, 30)\n",
            "Error when modifying tuple: 'tuple' object does not support item assignment\n"
          ]
        }
      ]
    },
    {
      "cell_type": "code",
      "source": [
        "# 6. Write a function to demonstrate the behavior of mutable and immutable arguments.\n",
        "\n",
        "def demo_behavior(imm, mut):\n",
        "    imm += 10\n",
        "    mut.append(100)\n",
        "    print(f\"Inside function: imm = {imm}, mut = {mut}\")\n",
        "\n",
        "x = 5\n",
        "y = [1, 2, 3]\n",
        "\n",
        "print(f\"Before: x = {x}, y = {y}\")\n",
        "demo_behavior(x, y)\n",
        "print(f\"After: x = {x}, y = {y}\")\n"
      ],
      "metadata": {
        "colab": {
          "base_uri": "https://localhost:8080/"
        },
        "id": "_xeJV3M6jLFH",
        "outputId": "557a02ab-911f-41b7-8783-a4f385249e91"
      },
      "execution_count": 17,
      "outputs": [
        {
          "output_type": "stream",
          "name": "stdout",
          "text": [
            "Before: x = 5, y = [1, 2, 3]\n",
            "Inside function: imm = 15, mut = [1, 2, 3, 100]\n",
            "After: x = 5, y = [1, 2, 3, 100]\n"
          ]
        }
      ]
    },
    {
      "cell_type": "code",
      "source": [
        "# 7. Write a program that performs basic arithmetic operations on two user-input numbers.\n",
        "\n",
        "a = float(input(\"Enter first number: \"))\n",
        "b = float(input(\"Enter second number: \"))\n",
        "\n",
        "print(\"Add:\", a + b)\n",
        "print(\"Sub:\", a - b)\n",
        "print(\"Mul:\", a * b)\n",
        "print(\"Div:\", a / b if b != 0 else \"Cannot divide by zero\")"
      ],
      "metadata": {
        "colab": {
          "base_uri": "https://localhost:8080/"
        },
        "id": "Nea3USnFkJr7",
        "outputId": "7fa7d325-ff3e-44d4-bfc0-cc42e14924f4"
      },
      "execution_count": 18,
      "outputs": [
        {
          "output_type": "stream",
          "name": "stdout",
          "text": [
            "Enter first number: 5\n",
            "Enter second number: 10\n",
            "Add: 15.0\n",
            "Sub: -5.0\n",
            "Mul: 50.0\n",
            "Div: 0.5\n"
          ]
        }
      ]
    },
    {
      "cell_type": "code",
      "source": [
        "# 8. Write a program to demonstrate the use of logical operators.\n",
        "\n",
        "a = bool(int(input(\"Enter 1st value (0 or 1): \")))\n",
        "b = bool(int(input(\"Enter 2nd value (0 or 1): \")))\n",
        "\n",
        "print(\"\\na AND b:\", a and b)\n",
        "print(\"a OR b:\", a or b)\n",
        "print(\"NOT a:\", not a)\n"
      ],
      "metadata": {
        "colab": {
          "base_uri": "https://localhost:8080/"
        },
        "id": "4mZzbJ-7kd4W",
        "outputId": "73ff8b48-b720-454e-ba48-9208b43324df"
      },
      "execution_count": 20,
      "outputs": [
        {
          "output_type": "stream",
          "name": "stdout",
          "text": [
            "Enter 1st value (0 or 1): 0\n",
            "Enter 2nd value (0 or 1): 1\n",
            "\n",
            "a AND b: False\n",
            "a OR b: True\n",
            "NOT a: True\n"
          ]
        }
      ]
    },
    {
      "cell_type": "code",
      "source": [
        "# 9. Write a Python program to convert user input from string to integer, float, and boolean types.\n",
        "\n",
        "s = input(\"Enter a value: \")\n",
        "\n",
        "print(\"As int:\", int(s) if s.isdigit() else \"Invalid\")\n",
        "print(\"As float:\", float(s) if s.replace('.', '', 1).isdigit() else \"Invalid\")\n",
        "print(\"As bool:\", bool(s))"
      ],
      "metadata": {
        "colab": {
          "base_uri": "https://localhost:8080/"
        },
        "id": "Ddj9alvIkz6Y",
        "outputId": "34cb5a05-ec1e-4bd8-d290-1de0239f96ee"
      },
      "execution_count": 24,
      "outputs": [
        {
          "output_type": "stream",
          "name": "stdout",
          "text": [
            "Enter a value: 5\n",
            "As int: 5\n",
            "As float: 5.0\n",
            "As bool: True\n"
          ]
        }
      ]
    },
    {
      "cell_type": "code",
      "source": [
        "#10. Write code to demonstrate type casting with list elements.\n",
        "\n",
        "str_list = [\"1\", \"2\", \"3\", \"4.5\"]\n",
        "\n",
        "# Convert list elements to integer, float, and boolean\n",
        "int_list = [int(x) if x.isdigit() else 0 for x in str_list]\n",
        "float_list = [float(x) if '.' in x else int(x) for x in str_list]\n",
        "bool_list = [bool(x) for x in str_list]\n",
        "\n",
        "print(\"Original list:\", str_list)\n",
        "print(\"As integers:\", int_list)\n",
        "print(\"As floats:\", float_list)\n",
        "print(\"As booleans:\", bool_list)"
      ],
      "metadata": {
        "colab": {
          "base_uri": "https://localhost:8080/"
        },
        "id": "UJ-_7CuilMXj",
        "outputId": "d56e8774-f362-46ae-92c9-1b042118700e"
      },
      "execution_count": 26,
      "outputs": [
        {
          "output_type": "stream",
          "name": "stdout",
          "text": [
            "Original list: ['1', '2', '3', '4.5']\n",
            "As integers: [1, 2, 3, 0]\n",
            "As floats: [1, 2, 3, 4.5]\n",
            "As booleans: [True, True, True, True]\n"
          ]
        }
      ]
    },
    {
      "cell_type": "code",
      "source": [
        "# 11.  Write a program that checks if a number is positive, negative, or zero.\n",
        "\n",
        "num = float(input(\"Enter a number: \"))\n",
        "if num > 0:\n",
        "    print(\"The number is positive.\")\n",
        "elif num < 0:\n",
        "    print(\"The number is negative.\")\n",
        "else:\n",
        "    print(\"The number is zero.\")"
      ],
      "metadata": {
        "colab": {
          "base_uri": "https://localhost:8080/"
        },
        "id": "TjwLMq11lkc1",
        "outputId": "ba98fe5e-125b-4536-d04d-3369527d5bf7"
      },
      "execution_count": 27,
      "outputs": [
        {
          "output_type": "stream",
          "name": "stdout",
          "text": [
            "Enter a number: -90\n",
            "The number is negative.\n"
          ]
        }
      ]
    },
    {
      "cell_type": "code",
      "source": [
        "# 12. Write a for loop to print numbers from 1 to 10.\n",
        "\n",
        "for i in range(1, 11):\n",
        "    print(i, end=\" \")"
      ],
      "metadata": {
        "colab": {
          "base_uri": "https://localhost:8080/"
        },
        "id": "sxmjE5K2l0Ff",
        "outputId": "f6348f7e-1fbc-4679-f7f9-7c59c5982a10"
      },
      "execution_count": 29,
      "outputs": [
        {
          "output_type": "stream",
          "name": "stdout",
          "text": [
            "1 2 3 4 5 6 7 8 9 10 "
          ]
        }
      ]
    },
    {
      "cell_type": "code",
      "source": [
        "# 13. Write a Python program to find the sum of all even numbers between 1 and 50.\n",
        "\n",
        "sum_of_evens = sum(range(2, 51, 2))\n",
        "print(\"Sum of even numbers between 1 and 50:\", sum_of_evens)"
      ],
      "metadata": {
        "colab": {
          "base_uri": "https://localhost:8080/"
        },
        "id": "KdQBujR2mJuB",
        "outputId": "29167594-1aef-466e-bbcd-1fd2bae04fca"
      },
      "execution_count": 31,
      "outputs": [
        {
          "output_type": "stream",
          "name": "stdout",
          "text": [
            "Sum of even numbers between 1 and 50: 650\n"
          ]
        }
      ]
    },
    {
      "cell_type": "code",
      "source": [
        "# 14.  Write a program to reverse a string using a while loop.\n",
        "\n",
        "s = input(\"Enter a string: \")\n",
        "reversed_str = \"\"\n",
        "i = len(s) - 1\n",
        "while i >= 0:\n",
        "    reversed_str += s[i]\n",
        "    i -= 1\n",
        "print(\"Reversed string:\", reversed_str)"
      ],
      "metadata": {
        "colab": {
          "base_uri": "https://localhost:8080/"
        },
        "id": "Duj-v-MrmYtw",
        "outputId": "556c4d53-6c16-409d-f46f-0d9d36f0062c"
      },
      "execution_count": 32,
      "outputs": [
        {
          "output_type": "stream",
          "name": "stdout",
          "text": [
            "Enter a string: Pwskills\n",
            "Reversed string: sllikswP\n"
          ]
        }
      ]
    },
    {
      "cell_type": "code",
      "source": [
        "# 15. Write a Python program to calculate the factorial of a number provided by the user using a while loop.\n",
        "\n",
        "num = int(input(\"Enter a number: \"))\n",
        "factorial = 1\n",
        "while num > 1:\n",
        "    factorial = factorial * num\n",
        "    num -= 1\n",
        "print(\"Factorial:\", factorial)"
      ],
      "metadata": {
        "colab": {
          "base_uri": "https://localhost:8080/"
        },
        "id": "NeAdqbmUmxrU",
        "outputId": "7a1d513b-2027-4dbc-ef3e-dfb82669154a"
      },
      "execution_count": 38,
      "outputs": [
        {
          "output_type": "stream",
          "name": "stdout",
          "text": [
            "Enter a number: 6\n",
            "Factorial: 720\n"
          ]
        }
      ]
    }
  ]
}